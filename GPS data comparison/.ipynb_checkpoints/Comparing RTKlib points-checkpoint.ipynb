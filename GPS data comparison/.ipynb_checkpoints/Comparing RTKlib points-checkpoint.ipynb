{
 "cells": [
  {
   "cell_type": "markdown",
   "metadata": {},
   "source": [
    "# Comparison of GPS points within error ellipses\n",
    "\n",
    "**Script prepared by A. Rovere - MARUM, University of Bremen**\n",
    "\n",
    "This script compares the distance of two GPS points (Lat/Lon/Height Above Ellipsoid) within their uncertainties. "
   ]
  },
  {
   "cell_type": "code",
   "execution_count": 24,
   "metadata": {},
   "outputs": [],
   "source": [
    "import pandas as pd\n",
    "import geopandas\n",
    "import matplotlib.patches\n",
    "import matplotlib.pyplot as plt\n",
    "import numpy as np\n",
    "import scipy.stats as stats\n",
    "import math\n",
    "from math import pi"
   ]
  },
  {
   "cell_type": "markdown",
   "metadata": {},
   "source": [
    "## Input files\n",
    "Insert the names of the output files. The files must be in *.pos* format, output of RTKlib. "
   ]
  },
  {
   "cell_type": "code",
   "execution_count": 25,
   "metadata": {},
   "outputs": [],
   "source": [
    "filename1='28_11_19_BadElf.pos'\n",
    "filename2='28_11_19_BadElf_CPVG.pos'"
   ]
  },
  {
   "cell_type": "markdown",
   "metadata": {},
   "source": [
    "The two files are inserted in a geodataframe and transformed in UTC coordinates. If one uncertainties are null, a minimal uncertainty of 0.0001 is inserted."
   ]
  },
  {
   "cell_type": "code",
   "execution_count": 26,
   "metadata": {},
   "outputs": [
    {
     "data": {
      "text/html": [
       "<div>\n",
       "<style scoped>\n",
       "    .dataframe tbody tr th:only-of-type {\n",
       "        vertical-align: middle;\n",
       "    }\n",
       "\n",
       "    .dataframe tbody tr th {\n",
       "        vertical-align: top;\n",
       "    }\n",
       "\n",
       "    .dataframe thead th {\n",
       "        text-align: right;\n",
       "    }\n",
       "</style>\n",
       "<table border=\"1\" class=\"dataframe\">\n",
       "  <thead>\n",
       "    <tr style=\"text-align: right;\">\n",
       "      <th></th>\n",
       "      <th>%_GPST</th>\n",
       "      <th>latitude(deg)</th>\n",
       "      <th>longitude(deg)</th>\n",
       "      <th>height(m)</th>\n",
       "      <th>Q</th>\n",
       "      <th>ns</th>\n",
       "      <th>sdn(m)</th>\n",
       "      <th>sde(m)</th>\n",
       "      <th>sdu(m)</th>\n",
       "      <th>sdne(m)</th>\n",
       "      <th>sdeu(m)</th>\n",
       "      <th>sdun(m)</th>\n",
       "      <th>age(s)</th>\n",
       "      <th>ratio</th>\n",
       "      <th>geometry</th>\n",
       "      <th>lon (UTC)</th>\n",
       "      <th>lat (UTC)</th>\n",
       "    </tr>\n",
       "  </thead>\n",
       "  <tbody>\n",
       "    <tr>\n",
       "      <th>0</th>\n",
       "      <td>2019-11-26 11:23:20</td>\n",
       "      <td>16.850979</td>\n",
       "      <td>-22.921967</td>\n",
       "      <td>45.1649</td>\n",
       "      <td>1</td>\n",
       "      <td>8</td>\n",
       "      <td>0.0001</td>\n",
       "      <td>0.0001</td>\n",
       "      <td>0.0001</td>\n",
       "      <td>-0.0000</td>\n",
       "      <td>0.0000</td>\n",
       "      <td>-0.0000</td>\n",
       "      <td>7.21</td>\n",
       "      <td>9.3</td>\n",
       "      <td>POINT (9072723.685 2789304.252)</td>\n",
       "      <td>9.072724e+06</td>\n",
       "      <td>2.789304e+06</td>\n",
       "    </tr>\n",
       "    <tr>\n",
       "      <th>1</th>\n",
       "      <td>2019-11-26 11:23:20</td>\n",
       "      <td>16.850979</td>\n",
       "      <td>-22.921967</td>\n",
       "      <td>45.1564</td>\n",
       "      <td>1</td>\n",
       "      <td>7</td>\n",
       "      <td>0.0001</td>\n",
       "      <td>0.0002</td>\n",
       "      <td>0.0003</td>\n",
       "      <td>-0.0001</td>\n",
       "      <td>0.0001</td>\n",
       "      <td>-0.0001</td>\n",
       "      <td>2.00</td>\n",
       "      <td>243.8</td>\n",
       "      <td>POINT (9072723.680 2789304.251)</td>\n",
       "      <td>9.072724e+06</td>\n",
       "      <td>2.789304e+06</td>\n",
       "    </tr>\n",
       "  </tbody>\n",
       "</table>\n",
       "</div>"
      ],
      "text/plain": [
       "               %_GPST  latitude(deg)  longitude(deg)  height(m)  Q  ns  \\\n",
       "0 2019-11-26 11:23:20      16.850979      -22.921967    45.1649  1   8   \n",
       "1 2019-11-26 11:23:20      16.850979      -22.921967    45.1564  1   7   \n",
       "\n",
       "   sdn(m)  sde(m)  sdu(m)  sdne(m)  sdeu(m)  sdun(m)  age(s)  ratio  \\\n",
       "0  0.0001  0.0001  0.0001  -0.0000   0.0000  -0.0000    7.21    9.3   \n",
       "1  0.0001  0.0002  0.0003  -0.0001   0.0001  -0.0001    2.00  243.8   \n",
       "\n",
       "                          geometry     lon (UTC)     lat (UTC)  \n",
       "0  POINT (9072723.685 2789304.252)  9.072724e+06  2.789304e+06  \n",
       "1  POINT (9072723.680 2789304.251)  9.072724e+06  2.789304e+06  "
      ]
     },
     "execution_count": 26,
     "metadata": {},
     "output_type": "execute_result"
    }
   ],
   "source": [
    "df1 = pd.read_csv(filename1, index_col=None, header=0,skiprows=10,delim_whitespace=True,parse_dates=[['%', 'GPST']])\n",
    "df2 = pd.read_csv(filename2, index_col=None, header=0,skiprows=10,delim_whitespace=True,parse_dates=[['%', 'GPST']])\n",
    "points=df1.append(df2)\n",
    "points.reset_index(drop=True,inplace=True)\n",
    "gdf = geopandas.GeoDataFrame(points, geometry=geopandas.points_from_xy(points['longitude(deg)'], points['latitude(deg)']),crs={'init':'epsg:4326'})\n",
    "gdf.to_crs(epsg=3310,inplace=True)\n",
    "gdf['lon (UTC)'] = gdf.geometry.x\n",
    "gdf['lat (UTC)'] = gdf.geometry.y\n",
    "gdf.loc[gdf['sdn(m)'] == 0, 'sdn(m)'] = 0.0001\n",
    "gdf.loc[gdf['sde(m)'] == 0, 'sde(m)'] = 0.0001\n",
    "gdf.loc[gdf['sdu(m)'] == 0, 'sdu(m)'] = 0.0001\n",
    "gdf"
   ]
  },
  {
   "cell_type": "markdown",
   "metadata": {},
   "source": [
    "## Plots\n",
    "The two points are plotted to show how they compare in lat/lon and Ellipsoid Height. Plots include uncertainties, incorporated as 2-sigma from the RTKlib output."
   ]
  },
  {
   "cell_type": "code",
   "execution_count": 27,
   "metadata": {},
   "outputs": [
    {
     "data": {
      "image/png": "[encoded data removed]",
      "text/plain": [
       "<Figure size 1440x360 with 2 Axes>"
      ]
     },
     "metadata": {
      "needs_background": "light"
     },
     "output_type": "display_data"
    }
   ],
   "source": [
    "fig, (ax2, ax1) = plt.subplots(1, 2,figsize=(20,5))\n",
    "fig.suptitle('Difference between height of points {} (blue) and {} (orange)'.format(filename1,filename2))\n",
    "\n",
    "llim=min(gdf['height(m)'][0],gdf['height(m)'][1])-4*max(gdf['sdu(m)'][0],gdf['sdu(m)'][1])\n",
    "ulim=max(gdf['height(m)'][0],gdf['height(m)'][1])+4*max(gdf['sdu(m)'][0],gdf['sdu(m)'][1])\n",
    "\n",
    "x = np.linspace(llim,ulim, 1000)\n",
    "ax1.plot(x, stats.norm.pdf(x, gdf['height(m)'][0], gdf['sdu(m)'][0]))\n",
    "ax1.plot(x, stats.norm.pdf(x, gdf['height(m)'][1], gdf['sdu(m)'][1]))\n",
    "DeltaH=abs(gdf['height(m)'][0]-gdf['height(m)'][1])\n",
    "ax1.set(xlabel='Ellipsoid height (m)', title='Delta = {:.2f}m'.format(DeltaH))\n",
    "\n",
    "f = np.linspace(0, 2*pi, 100)\n",
    "ax2.plot(gdf['lon (UTC)'][0]+gdf['sde(m)'][0]*np.cos(f) , gdf['lat (UTC)'][0]+gdf['sdn(m)'][0]*np.sin(f))\n",
    "ax2.plot(gdf['lon (UTC)'][1]+gdf['sde(m)'][1]*np.cos(f) , gdf['lat (UTC)'][1]+gdf['sdn(m)'][1]*np.sin(f))\n",
    "\n",
    "def distance_cartesian(x1, y1, x2, y2):\n",
    "    dx = x1 - x2\n",
    "    dy = y1 - y2\n",
    "    return np.sqrt(dx * dx + dy * dy)\n",
    "\n",
    "DeltaPos=(distance_cartesian(gdf['lon (UTC)'][0], gdf['lat (UTC)'][0], gdf['lon (UTC)'][1], gdf['lat (UTC)'][1]))\n",
    "\n",
    "ax2.set(xlabel='UTM Longitude (m)',ylabel='UTM Latitude (m)',title='Delta = {:.2f}m'.format(DeltaPos))\n",
    "\n",
    "plt.show()"
   ]
  },
  {
   "cell_type": "markdown",
   "metadata": {},
   "source": [
    "***\n",
    "## License\n",
    "This software is relased under the MIT license.\n",
    "\n",
    "Copyright 2020 Alessio Rovere\n",
    "\n",
    "Permission is hereby granted, free of charge, to any person obtaining a copy of this software and associated documentation files (the \"Software\"), to deal in the Software without restriction, including without limitation the rights to use, copy, modify, merge, publish, distribute, sublicense, and/or sell copies of the Software, and to permit persons to whom the Software is furnished to do so, subject to the following conditions: The above copyright notice and this permission notice shall be included in all copies or substantial portions of the Software.\n",
    "\n",
    "THE SOFTWARE IS PROVIDED \"AS IS\", WITHOUT WARRANTY OF ANY KIND, EXPRESS OR IMPLIED, INCLUDING BUT NOT LIMITED TO THE WARRANTIES OF MERCHANTABILITY, FITNESS FOR A PARTICULAR PURPOSE AND NONINFRINGEMENT. IN NO EVENT SHALL THE AUTHORS OR COPYRIGHT HOLDERS BE LIABLE FOR ANY CLAIM, DAMAGES OR OTHER LIABILITY, WHETHER IN AN ACTION OF CONTRACT, TORT OR OTHERWISE, ARISING FROM, OUT OF OR IN CONNECTION WITH THE SOFTWARE OR THE USE OR OTHER DEALINGS IN THE SOFTWARE.\n",
    "***\n",
    "# Research funding acknowledgments\n",
    "This script and associated data were created in the framework of the European Reasearch Council Starting Grant WARMCOASTS (Grant Agreement Number 802414), funded under the European Union's Horizon 2020 research and Innovation programme.\n",
    "***\n",
    "# How to cite\n",
    "Citation ref here\n",
    "***\n",
    "# Code acknowledgments\n",
    "https://stackoverflow.com/questions/46852395/measure-distance-between-lat-lon-coordinates-and-utm-coordinates"
   ]
  },
  {
   "cell_type": "code",
   "execution_count": null,
   "metadata": {},
   "outputs": [],
   "source": []
  }
 ],
 "metadata": {
  "kernelspec": {
   "display_name": "Python 3",
   "language": "python",
   "name": "python3"
  },
  "language_info": {
   "codemirror_mode": {
    "name": "ipython",
    "version": 3
   },
   "file_extension": ".py",
   "mimetype": "text/x-python",
   "name": "python",
   "nbconvert_exporter": "python",
   "pygments_lexer": "ipython3",
   "version": "3.6.9"
  }
 },
 "nbformat": 4,
 "nbformat_minor": 4
}
